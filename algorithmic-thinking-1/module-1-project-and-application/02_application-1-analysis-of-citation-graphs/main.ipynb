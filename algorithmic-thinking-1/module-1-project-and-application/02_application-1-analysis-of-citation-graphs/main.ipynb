{
 "cells": [
  {
   "cell_type": "code",
   "execution_count": 2,
   "metadata": {},
   "outputs": [],
   "source": [
    "import random\n",
    "from collections import Counter\n",
    "from matplotlib import pyplot as plt\n",
    "\n",
    "\n",
    "class Graph(object):\n",
    "    \"\"\"docstring for Graph\"\"\"\n",
    "    def __init__(self, nodes=[], edges=[], directed=False):\n",
    "        self._graph = dict()\n",
    "        self._deg_dist = {}  # Degree Distribution\n",
    "        if len(nodes):\n",
    "            self._make_graph(nodes, edges, directed)\n",
    "\n",
    "    def make_complete(self, num_nodes, directed=False):\n",
    "        nodes = list(range(num_nodes))\n",
    "        edges = [(node_1, node_2) for node_1 in nodes for node_2 in nodes if node_1 != node_2]\n",
    "        self._make_graph(nodes, edges, directed)\n",
    "\n",
    "    def _make_graph(self, nodes, edges, directed=False):\n",
    "        for node in nodes:\n",
    "            self._graph[node] = set()\n",
    "\n",
    "        if not directed:\n",
    "            edges = set([sorted(edge) for edge in edges])\n",
    "\n",
    "        for edge in edges:\n",
    "            self._graph[edge[0]].add(edge[1])\n",
    "\n",
    "    def __contains__(self, value):\n",
    "        return value in self._graph\n",
    "    \n",
    "    def __setitem__(self, node, edges):\n",
    "        assert not (edges is set and node is int)\n",
    "        self._graph[node] = edges\n",
    "    \n",
    "    def in_degrees(self):\n",
    "        \"\"\"\n",
    "        Returns a dictionary of in-degrees of the nodes\n",
    "        of the input digraph\n",
    "        \"\"\"\n",
    "        degrees = dict.fromkeys(self._graph, 0)\n",
    "        edges = []\n",
    "        for value in self._graph.values():\n",
    "            edges += list(value)\n",
    "        for edge in edges:\n",
    "            degrees[edge] += 1\n",
    "        return degrees\n",
    "\n",
    "    def compute_out_degrees(self):\n",
    "        \"\"\"Returns a dictionary of out-degrees of the nodes\n",
    "        of the input digraph\"\"\"\n",
    "        degrees = dict()\n",
    "        for node in self._graph:\n",
    "            degrees[node] = len(self._graph[node])\n",
    "        return degrees\n",
    "\n",
    "    def in_degree_distribution(self, normalized=False):\n",
    "        \"\"\"Returns the degree distribution of a digraph\"\"\"\n",
    "        num_nodes = float(len(self._graph))\n",
    "        degrees = self.in_degrees()\n",
    "        self._deg_dist = dict(Counter(degrees.values()))\n",
    "        if normalized:\n",
    "            for degree in iter(self._deg_dist):\n",
    "                self._deg_dist[degree] /= num_nodes\n",
    "        return self._deg_dist\n",
    "\n",
    "    def plot(self, log=True, file_name='', title='', xlabel='', ylabel='', color='#634017'):\n",
    "        if log:\n",
    "            plt.loglog(self._graph.keys(), self._graph.values(), 'o', color=color)\n",
    "        else:\n",
    "            plt.plot(self._graph.keys(), self._graph.values(), 'o', color=color)\n",
    "\n",
    "        plt.title(title, fontsize=18, color='#ff8800')\n",
    "        plt.xlabel(xlabel, fontsize=14, color='#ff8800')\n",
    "        plt.ylabel(ylabel, fontsize=14, color='#ff8800')\n",
    "        if file_name:\n",
    "            plt.savefig(file_name, dpi=300, format='png', transparent=False, orientation='landscape', bbox_inches='tight', pad_inches=0.3)\n"
   ]
  },
  {
   "cell_type": "code",
   "execution_count": 3,
   "metadata": {},
   "outputs": [],
   "source": [
    "NODES_0 = [0, 1, 2]\n",
    "EDGES_0 = [(0, 1), (0, 2)]\n",
    "EX_GRAPH0 = Graph(NODES_0, EDGES_0, True)\n",
    "\n",
    "NODES_1 = [0, 1, 2, 3, 4, 5, 6]\n",
    "EDGES_1 = [(0, 1), (0, 4), (0, 5),\n",
    "           (1, 2), (1, 6), (2, 3),\n",
    "           (3, 0), (4, 1), (5, 2)]\n",
    "EX_GRAPH1 = Graph(NODES_1, EDGES_1, True)\n",
    "\n",
    "NODES_2 = [0, 1, 2, 3, 4, 5, 6, 7, 8, 9]\n",
    "EDGES_2 = [(0, 1), (0, 4), (0, 5),\n",
    "           (1, 2), (1, 6), (2, 3),\n",
    "           (2, 7), (3, 7), (4, 1),\n",
    "           (5, 2), (7, 3), (8, 1),\n",
    "           (8, 2), (9, 0), (9, 3),\n",
    "           (9, 4), (9, 5), (9, 6),\n",
    "           (9, 7)]\n",
    "EX_GRAPH2 = Graph(NODES_2, EDGES_2, True)\n"
   ]
  },
  {
   "cell_type": "code",
   "execution_count": 98,
   "metadata": {},
   "outputs": [],
   "source": [
    "def load_graph_data(file_name):\n",
    "    \"\"\"\n",
    "    Function that loads a graph given a text\n",
    "    representation of the graph\n",
    "\n",
    "    Returns a dictionary that models a graph\n",
    "    \"\"\"\n",
    "    graph_file = open(file_name)\n",
    "    graph_text = graph_file.read()\n",
    "    graph_lines = graph_text.split('\\n')\n",
    "    graph_lines = graph_lines[:-1]\n",
    "    \n",
    "    print(\"Loaded graph with\", len(graph_lines), \"nodes\")\n",
    "    \n",
    "    nodes = []\n",
    "    edges = []\n",
    "    for line in graph_lines:\n",
    "        neighbors = line.split(' ')\n",
    "        node = int(neighbors[0])\n",
    "        nodes.append(node)\n",
    "        for neighbor in neighbors[1:-1]:\n",
    "            edges.append((node, int(neighbor)))\n",
    "    return nodes, edges"
   ]
  },
  {
   "cell_type": "code",
   "execution_count": 99,
   "metadata": {},
   "outputs": [
    {
     "name": "stdout",
     "output_type": "stream",
     "text": [
      "Loaded graph with 27770 nodes\n"
     ]
    }
   ],
   "source": [
    "citation_graph_data = load_graph_data('alg_phys-cite.txt')"
   ]
  },
  {
   "cell_type": "code",
   "execution_count": 100,
   "metadata": {},
   "outputs": [
    {
     "data": {
      "text/plain": [
       "Text(0,0.5,'Papers')"
      ]
     },
     "execution_count": 100,
     "metadata": {},
     "output_type": "execute_result"
    },
    {
     "data": {
      "image/png": "[encoded data removed]",
      "text/plain": [
       "<matplotlib.figure.Figure at 0x7f84ded3a9b0>"
      ]
     },
     "metadata": {},
     "output_type": "display_data"
    }
   ],
   "source": [
    "# Q1\n",
    "citation_graph = Graph(*citation_graph_data, directed=True)\n",
    "normalized_degree_dist = citation_graph.in_degree_distribution(normalized=True)\n",
    "\n",
    "plt.loglog(normalized_degree_dist.keys(), normalized_degree_dist.values(), 'o', color='#634017')\n",
    "plt.title(\"Log-log plot of the normalized\\ndegree distribution of paper's citations\", fontsize=18, color='#ff8800')\n",
    "plt.xlabel(\"Number of Citations\", fontsize=14, color='#ff8800')\n",
    "plt.ylabel(\"Papers\", fontsize=14, color='#ff8800')\n",
    "\n",
    "# plt.savefig('Q1.jpg', dpi=300, format='png', transparent=False, orientation='landscape', bbox_inches='tight', pad_inches=0.3)"
   ]
  },
  {
   "cell_type": "code",
   "execution_count": 4,
   "metadata": {},
   "outputs": [
    {
     "name": "stdout",
     "output_type": "stream",
     "text": [
      "27769\n"
     ]
    }
   ],
   "source": [
    "# Q4\n",
    "class DPATrial:\n",
    "    \"\"\"\n",
    "    Simple class to encapsulate optimized trials for DPA algorithm\n",
    "\n",
    "    Maintains a list of node numbers with multiple instances of each number.\n",
    "    The number of instances of each node number are\n",
    "    in the same proportion as the desired probabilities\n",
    "\n",
    "    Uses random.choice() to select a node number from this list for each trial.\n",
    "    \"\"\"\n",
    "    def __init__(self, num_nodes):\n",
    "        \"\"\"\n",
    "        Initialize a DPATrial object corresponding to a\n",
    "        complete graph with num_nodes nodes\n",
    "\n",
    "        Note the initial list of node numbers has num_nodes copies of\n",
    "        each node number\n",
    "        \"\"\"\n",
    "        self._num_nodes = num_nodes\n",
    "        self._node_numbers = [node for node in range(num_nodes) for dummy_idx in range(num_nodes)]\n",
    "\n",
    "    def run_trial(self, num_nodes):\n",
    "        \"\"\"\n",
    "        Conduct num_node trials using by applying random.choice()\n",
    "        to the list of node numbers\n",
    "\n",
    "        Updates the list of node numbers so that the number of instances of\n",
    "        each node number is in the same ratio as the desired probabilities\n",
    "\n",
    "        Returns:\n",
    "        Set of nodes\n",
    "        \"\"\"\n",
    "\n",
    "        # compute the neighbors for the newly-created node\n",
    "        new_node_neighbors = set()\n",
    "        for dummy_idx in range(num_nodes):\n",
    "            new_node_neighbors.add(random.choice(self._node_numbers))\n",
    "\n",
    "        # update the list of node numbers so that each node number\n",
    "        # appears in the correct ratio\n",
    "        self._node_numbers.append(self._num_nodes)\n",
    "        self._node_numbers.extend(list(new_node_neighbors))\n",
    "\n",
    "        # update the number of nodes\n",
    "        self._num_nodes += 1\n",
    "        return new_node_neighbors\n",
    "\n",
    "\n",
    "\n",
    "graph = Graph()\n",
    "graph.make_complete(13, True)\n",
    "trials = DPATrial(13)\n",
    "for node in range(13, 27769):\n",
    "    new_nodes = trials.run_trial(13)\n",
    "    graph[node] = new_nodes\n",
    "\n",
    "print(len(graph._graph))\n",
    "\n",
    "# normalized_degree_dist = graph.in_degree_distribution(normalized=True)\n",
    "\n",
    "# plt.loglog(normalized_degree_dist.keys(), normalized_degree_dist.values(), 'o', color='#634017')\n",
    "# plt.title(\"Log-log plot of the normalized\\nin-degree distribution of the DPA graph\\nwith 27770 node and num of fixed edges\", fontsize=18, color='#ff8800')\n",
    "# plt.xlabel(\"Number of Citations\", fontsize=14, color='#ff8800')\n",
    "# plt.ylabel(\"Papers\", fontsize=14, color='#ff8800')\n",
    "\n",
    "# plt.savefig('Q4.png', dpi=300, format='png', transparent=False, orientation='landscape', bbox_inches='tight', pad_inches=0.3)"
   ]
  },
  {
   "cell_type": "code",
   "execution_count": null,
   "metadata": {},
   "outputs": [],
   "source": []
  }
 ],
 "metadata": {
  "kernelspec": {
   "display_name": "Python 3",
   "language": "python",
   "name": "python3"
  },
  "language_info": {
   "codemirror_mode": {
    "name": "ipython",
    "version": 3
   },
   "file_extension": ".py",
   "mimetype": "text/x-python",
   "name": "python",
   "nbconvert_exporter": "python",
   "pygments_lexer": "ipython3",
   "version": "3.5.2"
  }
 },
 "nbformat": 4,
 "nbformat_minor": 2
}
